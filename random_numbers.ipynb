{
 "cells": [
  {
   "cell_type": "code",
   "execution_count": 1,
   "id": "9b7eb5b2",
   "metadata": {},
   "outputs": [],
   "source": [
    "## Import the random module.\n",
    "import random"
   ]
  },
  {
   "cell_type": "code",
   "execution_count": 2,
   "id": "88f86982",
   "metadata": {},
   "outputs": [
    {
     "data": {
      "text/plain": [
       "-84"
      ]
     },
     "execution_count": 2,
     "metadata": {},
     "output_type": "execute_result"
    }
   ],
   "source": [
    "#create random integer\n",
    "random.randint(-90,90)"
   ]
  },
  {
   "cell_type": "code",
   "execution_count": 3,
   "id": "9bd1ac68",
   "metadata": {},
   "outputs": [
    {
     "data": {
      "text/plain": [
       "0.8445521498910908"
      ]
     },
     "execution_count": 3,
     "metadata": {},
     "output_type": "execute_result"
    }
   ],
   "source": [
    "#create random float(default)\n",
    "random.random()"
   ]
  },
  {
   "cell_type": "code",
   "execution_count": 4,
   "id": "d4aba2d5",
   "metadata": {},
   "outputs": [
    {
     "data": {
      "text/plain": [
       "5.814855928764211"
      ]
     },
     "execution_count": 4,
     "metadata": {},
     "output_type": "execute_result"
    }
   ],
   "source": [
    "random_number= random.randint(-90, 89) + random.random()\n",
    "random_number"
   ]
  },
  {
   "cell_type": "code",
   "execution_count": 5,
   "id": "f0a4f962",
   "metadata": {},
   "outputs": [
    {
     "data": {
      "text/plain": [
       "-5"
      ]
     },
     "execution_count": 5,
     "metadata": {},
     "output_type": "execute_result"
    }
   ],
   "source": [
    "#create random number from a range, by a step of 2\n",
    "random.randrange(-9,9,2)"
   ]
  },
  {
   "cell_type": "code",
   "execution_count": 6,
   "id": "938f7517",
   "metadata": {},
   "outputs": [
    {
     "data": {
      "text/plain": [
       "6.547991880450983"
      ]
     },
     "execution_count": 6,
     "metadata": {},
     "output_type": "execute_result"
    }
   ],
   "source": [
    "random.uniform(-10,10)"
   ]
  },
  {
   "cell_type": "code",
   "execution_count": 12,
   "id": "5ad9e755",
   "metadata": {},
   "outputs": [
    {
     "data": {
      "text/plain": [
       "[81.41474131174282,\n",
       " -61.90417599092013,\n",
       " -85.0748783061185,\n",
       " -85.18438238632628,\n",
       " -2.61814241810398,\n",
       " -24.9454345573692,\n",
       " -76.91305746952028,\n",
       " -70.91829094030827,\n",
       " 60.77042624285855,\n",
       " -3.9411331019773215]"
      ]
     },
     "execution_count": 12,
     "metadata": {},
     "output_type": "execute_result"
    }
   ],
   "source": [
    "## Create random latitude coordinates\n",
    "#Assign the vaiable to 1\n",
    "x = 1\n",
    "\n",
    "#Create empty list for latitudes\n",
    "latitudes=[]\n",
    "\n",
    "#create loop\n",
    "while x < 11:\n",
    "    \n",
    "    random_lat = random.randint(-90,90)+random.random()\n",
    "    #Add random_lat # to list\n",
    "    latitudes.append(random_lat)\n",
    "    #Increase x for next loop\n",
    "    x += 1\n",
    "    \n",
    "latitudes"
   ]
  },
  {
   "cell_type": "code",
   "execution_count": 14,
   "id": "9c893c44",
   "metadata": {},
   "outputs": [
    {
     "data": {
      "text/plain": [
       "[64.9578871152483,\n",
       " -31.42666810213252,\n",
       " 107.25874194284908,\n",
       " 118.84859811690012,\n",
       " -88.9732666732987,\n",
       " -94.95272910681913,\n",
       " 41.27286904958136,\n",
       " -153.76036593851444,\n",
       " 7.747107551931961,\n",
       " -173.89661344883774]"
      ]
     },
     "execution_count": 14,
     "metadata": {},
     "output_type": "execute_result"
    }
   ],
   "source": [
    "## Create random longitude coordinates\n",
    "#Set variable to 1\n",
    "y = 1\n",
    "\n",
    "#create empty list\n",
    "longitudes=[]\n",
    "\n",
    "#create loop\n",
    "while y < 11:\n",
    "    random_long = random.randint(-180,179)+random.random()\n",
    "    longitudes.append(random_long)\n",
    "    \n",
    "    #increase variable\n",
    "    y += 1\n",
    "    \n",
    "longitudes"
   ]
  },
  {
   "cell_type": "code",
   "execution_count": 16,
   "id": "0b335ba7",
   "metadata": {},
   "outputs": [
    {
     "data": {
      "text/plain": [
       "-35.7627218629875"
      ]
     },
     "execution_count": 16,
     "metadata": {},
     "output_type": "execute_result"
    }
   ],
   "source": [
    "random.uniform(-90,90)"
   ]
  },
  {
   "cell_type": "code",
   "execution_count": 17,
   "id": "68f9e7cc",
   "metadata": {},
   "outputs": [],
   "source": [
    "#Import Numpy module\n",
    "import numpy as np"
   ]
  },
  {
   "cell_type": "code",
   "execution_count": 22,
   "id": "4cafdcaa",
   "metadata": {},
   "outputs": [
    {
     "data": {
      "text/plain": [
       "61.08588986493541"
      ]
     },
     "execution_count": 22,
     "metadata": {},
     "output_type": "execute_result"
    }
   ],
   "source": [
    "#Using numpy's built in random function\n",
    "np.random.uniform(-90,90)"
   ]
  },
  {
   "cell_type": "code",
   "execution_count": 23,
   "id": "c2061763",
   "metadata": {},
   "outputs": [
    {
     "data": {
      "text/plain": [
       "array([ 26.32168402,  66.06977139,  25.64007495,  76.04397743,\n",
       "        -1.45330926, -47.94840691,   8.86778803,  10.08583484,\n",
       "       -47.2729639 ,   8.33274054, -73.13569836,  -7.11298506,\n",
       "        75.74137539, -34.7441556 , -24.48398462, -20.19903086,\n",
       "         5.13254675,  57.17058106, -22.45651919,   1.42339905,\n",
       "         5.82797267, -54.08728881, -45.72882751,  51.55173572,\n",
       "        58.47185384, -51.05418943,  79.63616928,  75.07103247,\n",
       "       -69.66465721, -79.96715184,  70.70230711, -81.85309506,\n",
       "        27.68591124,  21.28773797,  11.2253805 , -15.67974028,\n",
       "        66.20135877,  46.27557272,  81.89445396, -70.13071043,\n",
       "        53.13966846,  -1.70172641, -84.86450269,  87.67798659,\n",
       "       -11.11841771,  59.73194032,  10.77090404,  -4.14191719,\n",
       "        11.67255091, -66.50340427])"
      ]
     },
     "execution_count": 23,
     "metadata": {},
     "output_type": "execute_result"
    }
   ],
   "source": [
    "#generate more than one floating-point decimal number between -90 and 90\n",
    "np.random.uniform(-90,90, size=50)"
   ]
  },
  {
   "cell_type": "code",
   "execution_count": 24,
   "id": "b53f281f",
   "metadata": {},
   "outputs": [],
   "source": [
    "#To test how long a piece of code or function takes to run, we can \n",
    "#import the \"timeit\" module and use the %timeit magic command\n",
    "\n",
    "# Import timeit.\n",
    "import timeit"
   ]
  },
  {
   "cell_type": "code",
   "execution_count": 27,
   "id": "997edc63",
   "metadata": {},
   "outputs": [
    {
     "name": "stdout",
     "output_type": "stream",
     "text": [
      "14.6 µs ± 132 ns per loop (mean ± std. dev. of 7 runs, 100,000 loops each)\n"
     ]
    }
   ],
   "source": [
    "%timeit np.random.uniform(-90,90, size=1500)"
   ]
  },
  {
   "cell_type": "code",
   "execution_count": 29,
   "id": "ebd759d8",
   "metadata": {},
   "outputs": [
    {
     "name": "stdout",
     "output_type": "stream",
     "text": [
      "26.5 ns ± 0.509 ns per loop (mean ± std. dev. of 7 runs, 10,000,000 loops each)\n"
     ]
    }
   ],
   "source": [
    "#Skill Drill\n",
    "latitudes = []\n",
    "x = 1\n",
    "while x < 1500 :\n",
    "    random_lat = random.randint(-90, 90) + random.random()\n",
    "    latitudes.append(random_lat)\n",
    "    x += 1\n",
    "\n",
    "# Call the function with 1500.\n",
    "%timeit latitudes"
   ]
  },
  {
   "cell_type": "code",
   "execution_count": null,
   "id": "237c6b85",
   "metadata": {},
   "outputs": [],
   "source": []
  }
 ],
 "metadata": {
  "kernelspec": {
   "display_name": "PythonData",
   "language": "python",
   "name": "pythondata"
  },
  "language_info": {
   "codemirror_mode": {
    "name": "ipython",
    "version": 3
   },
   "file_extension": ".py",
   "mimetype": "text/x-python",
   "name": "python",
   "nbconvert_exporter": "python",
   "pygments_lexer": "ipython3",
   "version": "3.9.12"
  }
 },
 "nbformat": 4,
 "nbformat_minor": 5
}
